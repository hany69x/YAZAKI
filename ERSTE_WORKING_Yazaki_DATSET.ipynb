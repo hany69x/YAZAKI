{
  "nbformat": 4,
  "nbformat_minor": 0,
  "metadata": {
    "colab": {
      "provenance": [],
      "mount_file_id": "1rUxDynT_f_WzoeLXMDdi5e4Xw9BPZGhL",
      "authorship_tag": "ABX9TyP48T0rGceCMeYkGwnMpz7e",
      "include_colab_link": true
    },
    "kernelspec": {
      "name": "python3",
      "display_name": "Python 3"
    },
    "language_info": {
      "name": "python"
    }
  },
  "cells": [
    {
      "cell_type": "markdown",
      "metadata": {
        "id": "view-in-github",
        "colab_type": "text"
      },
      "source": [
        "<a href=\"https://colab.research.google.com/github/hany69x/YAZAKI/blob/main/ERSTE_WORKING_Yazaki_DATSET.ipynb\" target=\"_parent\"><img src=\"https://colab.research.google.com/assets/colab-badge.svg\" alt=\"Open In Colab\"/></a>"
      ]
    },
    {
      "cell_type": "code",
      "execution_count": 14,
      "metadata": {
        "colab": {
          "base_uri": "https://localhost:8080/"
        },
        "id": "qX_Njf00ImQI",
        "outputId": "8343782a-3ea0-42fb-8bd1-b944bc0f82a3"
      },
      "outputs": [
        {
          "output_type": "stream",
          "name": "stdout",
          "text": [
            "Requirement already satisfied: prophet in /usr/local/lib/python3.10/dist-packages (1.1.5)\n",
            "Requirement already satisfied: cmdstanpy>=1.0.4 in /usr/local/lib/python3.10/dist-packages (from prophet) (1.2.2)\n",
            "Requirement already satisfied: numpy>=1.15.4 in /usr/local/lib/python3.10/dist-packages (from prophet) (1.25.2)\n",
            "Requirement already satisfied: matplotlib>=2.0.0 in /usr/local/lib/python3.10/dist-packages (from prophet) (3.7.1)\n",
            "Requirement already satisfied: pandas>=1.0.4 in /usr/local/lib/python3.10/dist-packages (from prophet) (2.0.3)\n",
            "Requirement already satisfied: holidays>=0.25 in /usr/local/lib/python3.10/dist-packages (from prophet) (0.48)\n",
            "Requirement already satisfied: tqdm>=4.36.1 in /usr/local/lib/python3.10/dist-packages (from prophet) (4.66.4)\n",
            "Requirement already satisfied: importlib-resources in /usr/local/lib/python3.10/dist-packages (from prophet) (6.4.0)\n",
            "Requirement already satisfied: stanio<2.0.0,>=0.4.0 in /usr/local/lib/python3.10/dist-packages (from cmdstanpy>=1.0.4->prophet) (0.5.0)\n",
            "Requirement already satisfied: python-dateutil in /usr/local/lib/python3.10/dist-packages (from holidays>=0.25->prophet) (2.8.2)\n",
            "Requirement already satisfied: contourpy>=1.0.1 in /usr/local/lib/python3.10/dist-packages (from matplotlib>=2.0.0->prophet) (1.2.1)\n",
            "Requirement already satisfied: cycler>=0.10 in /usr/local/lib/python3.10/dist-packages (from matplotlib>=2.0.0->prophet) (0.12.1)\n",
            "Requirement already satisfied: fonttools>=4.22.0 in /usr/local/lib/python3.10/dist-packages (from matplotlib>=2.0.0->prophet) (4.51.0)\n",
            "Requirement already satisfied: kiwisolver>=1.0.1 in /usr/local/lib/python3.10/dist-packages (from matplotlib>=2.0.0->prophet) (1.4.5)\n",
            "Requirement already satisfied: packaging>=20.0 in /usr/local/lib/python3.10/dist-packages (from matplotlib>=2.0.0->prophet) (24.0)\n",
            "Requirement already satisfied: pillow>=6.2.0 in /usr/local/lib/python3.10/dist-packages (from matplotlib>=2.0.0->prophet) (9.4.0)\n",
            "Requirement already satisfied: pyparsing>=2.3.1 in /usr/local/lib/python3.10/dist-packages (from matplotlib>=2.0.0->prophet) (3.1.2)\n",
            "Requirement already satisfied: pytz>=2020.1 in /usr/local/lib/python3.10/dist-packages (from pandas>=1.0.4->prophet) (2023.4)\n",
            "Requirement already satisfied: tzdata>=2022.1 in /usr/local/lib/python3.10/dist-packages (from pandas>=1.0.4->prophet) (2024.1)\n",
            "Requirement already satisfied: six>=1.5 in /usr/local/lib/python3.10/dist-packages (from python-dateutil->holidays>=0.25->prophet) (1.16.0)\n",
            "Requirement already satisfied: pystan in /usr/local/lib/python3.10/dist-packages (3.9.1)\n",
            "Requirement already satisfied: aiohttp<4.0,>=3.6 in /usr/local/lib/python3.10/dist-packages (from pystan) (3.9.5)\n",
            "Requirement already satisfied: clikit<0.7,>=0.6 in /usr/local/lib/python3.10/dist-packages (from pystan) (0.6.2)\n",
            "Requirement already satisfied: httpstan<4.13,>=4.12 in /usr/local/lib/python3.10/dist-packages (from pystan) (4.12.0)\n",
            "Requirement already satisfied: numpy<2.0,>=1.19 in /usr/local/lib/python3.10/dist-packages (from pystan) (1.25.2)\n",
            "Requirement already satisfied: pysimdjson<7,>=5.0.2 in /usr/local/lib/python3.10/dist-packages (from pystan) (6.0.2)\n",
            "Requirement already satisfied: setuptools in /usr/local/lib/python3.10/dist-packages (from pystan) (67.7.2)\n",
            "Requirement already satisfied: aiosignal>=1.1.2 in /usr/local/lib/python3.10/dist-packages (from aiohttp<4.0,>=3.6->pystan) (1.3.1)\n",
            "Requirement already satisfied: attrs>=17.3.0 in /usr/local/lib/python3.10/dist-packages (from aiohttp<4.0,>=3.6->pystan) (23.2.0)\n",
            "Requirement already satisfied: frozenlist>=1.1.1 in /usr/local/lib/python3.10/dist-packages (from aiohttp<4.0,>=3.6->pystan) (1.4.1)\n",
            "Requirement already satisfied: multidict<7.0,>=4.5 in /usr/local/lib/python3.10/dist-packages (from aiohttp<4.0,>=3.6->pystan) (6.0.5)\n",
            "Requirement already satisfied: yarl<2.0,>=1.0 in /usr/local/lib/python3.10/dist-packages (from aiohttp<4.0,>=3.6->pystan) (1.9.4)\n",
            "Requirement already satisfied: async-timeout<5.0,>=4.0 in /usr/local/lib/python3.10/dist-packages (from aiohttp<4.0,>=3.6->pystan) (4.0.3)\n",
            "Requirement already satisfied: crashtest<0.4.0,>=0.3.0 in /usr/local/lib/python3.10/dist-packages (from clikit<0.7,>=0.6->pystan) (0.3.1)\n",
            "Requirement already satisfied: pastel<0.3.0,>=0.2.0 in /usr/local/lib/python3.10/dist-packages (from clikit<0.7,>=0.6->pystan) (0.2.1)\n",
            "Requirement already satisfied: pylev<2.0,>=1.3 in /usr/local/lib/python3.10/dist-packages (from clikit<0.7,>=0.6->pystan) (1.4.0)\n",
            "Requirement already satisfied: appdirs<2.0,>=1.4 in /usr/local/lib/python3.10/dist-packages (from httpstan<4.13,>=4.12->pystan) (1.4.4)\n",
            "Requirement already satisfied: marshmallow<4.0,>=3.10 in /usr/local/lib/python3.10/dist-packages (from httpstan<4.13,>=4.12->pystan) (3.21.2)\n",
            "Requirement already satisfied: webargs<9.0,>=8.0 in /usr/local/lib/python3.10/dist-packages (from httpstan<4.13,>=4.12->pystan) (8.4.0)\n",
            "Requirement already satisfied: packaging>=17.0 in /usr/local/lib/python3.10/dist-packages (from marshmallow<4.0,>=3.10->httpstan<4.13,>=4.12->pystan) (24.0)\n",
            "Requirement already satisfied: idna>=2.0 in /usr/local/lib/python3.10/dist-packages (from yarl<2.0,>=1.0->aiohttp<4.0,>=3.6->pystan) (3.7)\n"
          ]
        }
      ],
      "source": [
        "!pip install prophet\n",
        "! pip install pystan"
      ]
    },
    {
      "cell_type": "code",
      "source": [
        "path =\"/content/drive/MyDrive/DataSet/YazakiDSET.csv\"\n",
        "df = pd.read_csv(path)"
      ],
      "metadata": {
        "id": "du9qcWY9I53n"
      },
      "execution_count": 15,
      "outputs": []
    },
    {
      "cell_type": "code",
      "source": [
        "import pandas as pd\n",
        "from prophet import Prophet"
      ],
      "metadata": {
        "id": "Wznv1oYTJ9fl"
      },
      "execution_count": 16,
      "outputs": []
    },
    {
      "cell_type": "code",
      "source": [
        "print(df.head())\n"
      ],
      "metadata": {
        "colab": {
          "base_uri": "https://localhost:8080/"
        },
        "id": "AYvPjWcCK9gU",
        "outputId": "322f1fc0-7e07-4568-fbb5-a9ed3169e1f0"
      },
      "execution_count": 17,
      "outputs": [
        {
          "output_type": "stream",
          "name": "stdout",
          "text": [
            "  Row Labels  Sum of 202312  Sum of 202313  Sum of 202314  Sum of 202315  \\\n",
            "0     Line 1          17765          22020        22780.0        22420.0   \n",
            "1   Line 1-2            858           1078         1386.0         1738.0   \n",
            "2     Line 2          14226          15402        17610.0        22088.0   \n",
            "3     Line 3          20188          14657        20951.0        24177.0   \n",
            "4     Line 4          12186          11103        11915.0        14234.0   \n",
            "\n",
            "   Sum of 202317  Sum of 202319  Sum of 202320  Sum of 202321  Sum of 202322  \\\n",
            "0        11930.0        22350.0        13075.0        21200.0          18100   \n",
            "1         1943.0         1943.0         1804.0         1870.0           4950   \n",
            "2        13651.0        14258.0        19480.0        14594.0          17184   \n",
            "3        17152.0        19243.0        18615.0        20435.0          16735   \n",
            "4        12190.0         8133.0         9608.0        10556.0           8533   \n",
            "\n",
            "   ...  Sum of 202402  Sum of 202403  Sum of 202404  Sum of 202405  \\\n",
            "0  ...        34010.0        35110.0        34589.0        24000.0   \n",
            "1  ...            NaN            NaN            NaN            NaN   \n",
            "2  ...        22415.0        21828.0        25577.0        21377.0   \n",
            "3  ...        19110.0        38234.0        26784.0        26814.0   \n",
            "4  ...        16627.0        45582.0        10088.0         9334.0   \n",
            "\n",
            "   Sum of 202407  Sum of 202406  Sum of 202408  Sum of 202409  Sum of 202410  \\\n",
            "0        33960.0        30900.0            NaN            NaN            NaN   \n",
            "1            NaN            NaN            NaN            NaN            NaN   \n",
            "2        20340.0        21377.0        25609.0        20969.0        20993.0   \n",
            "3         6350.0        26684.0        23234.0        19662.0        15208.0   \n",
            "4            NaN        12644.0         5034.0         4988.0         4986.0   \n",
            "\n",
            "   Sum of 202411  \n",
            "0            NaN  \n",
            "1            NaN  \n",
            "2        14878.0  \n",
            "3        12268.0  \n",
            "4         3950.0  \n",
            "\n",
            "[5 rows x 53 columns]\n"
          ]
        }
      ]
    },
    {
      "cell_type": "code",
      "source": [
        "print(df.columns)\n"
      ],
      "metadata": {
        "colab": {
          "base_uri": "https://localhost:8080/"
        },
        "id": "0Rk8tJSjLDUO",
        "outputId": "8e5538e3-5cf8-452c-9793-8c13a9ac3cf8"
      },
      "execution_count": null,
      "outputs": [
        {
          "output_type": "stream",
          "name": "stdout",
          "text": [
            "Index(['Row Labels', '202312', '202313', '202314', '202315', '202317',\n",
            "       '202319', '202320', '202321', '202322', '202318', '202316', '202323',\n",
            "       '202324', '202338', '202339', '202340', '202344', '202346', '202350',\n",
            "       '202348', '202347', '202345', '202343', '202342', '202341', '202325',\n",
            "       '202326', '202327', '202328', '202329', '202330', '202331', '202332',\n",
            "       '202333', '202334', '202335', '202336', '202337', '202349', '202351',\n",
            "       '202352', '202401', '202402', '202403', '202404', '202405', '202407',\n",
            "       '202406', '202408', '202409', '202410', '202411'],\n",
            "      dtype='object')\n"
          ]
        }
      ]
    },
    {
      "cell_type": "code",
      "source": [
        "# Load the dataset\n",
        "path = \"/content/drive/MyDrive/DataSet/YazakiDSET.csv\"\n",
        "df = pd.read_csv(path)\n",
        "\n",
        "# Inspect the first few rows and column names\n",
        "print(df.head())\n",
        "print(df.columns)\n",
        "\n",
        "# Assuming your dataset has the first row as column names like 'Sum of 202312', 'Sum of 202313', ...\n",
        "# Remove the 'Sum of ' prefix from the column names\n",
        "df.columns = [col.replace('Sum of ', '') for col in df.columns]\n",
        "\n",
        "# Verify the column names after replacement\n",
        "print(df.columns)\n",
        "\n",
        "# Check if 'line' is the correct id_var or if it needs to be replaced\n",
        "if 'line' not in df.columns:\n",
        "    print(\"Column 'line' not found in the dataframe. Please check the column names.\")\n",
        "else:\n",
        "    # Melt the dataframe to long format\n",
        "    df_long = df.melt(id_vars=['line'], var_name='week_year', value_name='value')\n",
        "\n",
        "    # Extract year and week from the 'week_year' column\n",
        "    df_long['year'] = df_long['week_year'].str[:4].astype(int)\n",
        "    df_long['week'] = df_long['week_year'].str[4:].astype(int)\n",
        "\n",
        "    # Convert year and week to a datetime\n",
        "    df_long['ds'] = pd.to_datetime(df_long['year'].astype(str) + df_long['week'].astype(str) + '0', format='%Y%W%w')\n",
        "\n",
        "    # Filter out non-numeric rows (like 'grand total') if necessary\n",
        "    df_long = df_long[pd.to_numeric(df_long['value'], errors='coerce').notnull()]\n",
        "\n",
        "    # Rename columns for Prophet\n",
        "    df_prophet = df_long[['ds', 'value']].rename(columns={'value': 'y'})\n",
        "\n",
        "    # Train the Prophet model\n",
        "    m = Prophet()\n",
        "    m.fit(df_prophet)\n",
        "\n",
        "    # Make future predictions\n",
        "    future = m.make_future_dataframe(periods=52, freq='W')\n",
        "    forecast = m.predict(future)\n",
        "\n",
        "    # Visualize the forecast\n",
        "    fig = m.plot(forecast)\n",
        "    fig.show()\n",
        "\n",
        "    # Optionally save the forecast\n",
        "    forecast.to_csv('forecast.csv', index=False)\n"
      ],
      "metadata": {
        "colab": {
          "base_uri": "https://localhost:8080/"
        },
        "id": "4HQgWIiZLIdx",
        "outputId": "0b041198-51d0-4e39-9c84-44c97e14ce64"
      },
      "execution_count": null,
      "outputs": [
        {
          "output_type": "stream",
          "name": "stdout",
          "text": [
            "  Row Labels  Sum of 202312  Sum of 202313  Sum of 202314  Sum of 202315  \\\n",
            "0     Line 1          17765          22020        22780.0        22420.0   \n",
            "1   Line 1-2            858           1078         1386.0         1738.0   \n",
            "2     Line 2          14226          15402        17610.0        22088.0   \n",
            "3     Line 3          20188          14657        20951.0        24177.0   \n",
            "4     Line 4          12186          11103        11915.0        14234.0   \n",
            "\n",
            "   Sum of 202317  Sum of 202319  Sum of 202320  Sum of 202321  Sum of 202322  \\\n",
            "0        11930.0        22350.0        13075.0        21200.0          18100   \n",
            "1         1943.0         1943.0         1804.0         1870.0           4950   \n",
            "2        13651.0        14258.0        19480.0        14594.0          17184   \n",
            "3        17152.0        19243.0        18615.0        20435.0          16735   \n",
            "4        12190.0         8133.0         9608.0        10556.0           8533   \n",
            "\n",
            "   ...  Sum of 202402  Sum of 202403  Sum of 202404  Sum of 202405  \\\n",
            "0  ...        34010.0        35110.0        34589.0        24000.0   \n",
            "1  ...            NaN            NaN            NaN            NaN   \n",
            "2  ...        22415.0        21828.0        25577.0        21377.0   \n",
            "3  ...        19110.0        38234.0        26784.0        26814.0   \n",
            "4  ...        16627.0        45582.0        10088.0         9334.0   \n",
            "\n",
            "   Sum of 202407  Sum of 202406  Sum of 202408  Sum of 202409  Sum of 202410  \\\n",
            "0        33960.0        30900.0            NaN            NaN            NaN   \n",
            "1            NaN            NaN            NaN            NaN            NaN   \n",
            "2        20340.0        21377.0        25609.0        20969.0        20993.0   \n",
            "3         6350.0        26684.0        23234.0        19662.0        15208.0   \n",
            "4            NaN        12644.0         5034.0         4988.0         4986.0   \n",
            "\n",
            "   Sum of 202411  \n",
            "0            NaN  \n",
            "1            NaN  \n",
            "2        14878.0  \n",
            "3        12268.0  \n",
            "4         3950.0  \n",
            "\n",
            "[5 rows x 53 columns]\n",
            "Index(['Row Labels', 'Sum of 202312', 'Sum of 202313', 'Sum of 202314',\n",
            "       'Sum of 202315', 'Sum of 202317', 'Sum of 202319', 'Sum of 202320',\n",
            "       'Sum of 202321', 'Sum of 202322', 'Sum of 202318', 'Sum of 202316',\n",
            "       'Sum of 202323', 'Sum of 202324', 'Sum of 202338', 'Sum of 202339',\n",
            "       'Sum of 202340', 'Sum of 202344', 'Sum of 202346', 'Sum of 202350',\n",
            "       'Sum of 202348', 'Sum of 202347', 'Sum of 202345', 'Sum of 202343',\n",
            "       'Sum of 202342', 'Sum of 202341', 'Sum of 202325', 'Sum of 202326',\n",
            "       'Sum of 202327', 'Sum of 202328', 'Sum of 202329', 'Sum of 202330',\n",
            "       'Sum of 202331', 'Sum of 202332', 'Sum of 202333', 'Sum of 202334',\n",
            "       'Sum of 202335', 'Sum of 202336', 'Sum of 202337', 'Sum of 202349',\n",
            "       'Sum of 202351', 'Sum of 202352', 'Sum of 202401', 'Sum of 202402',\n",
            "       'Sum of 202403', 'Sum of 202404', 'Sum of 202405', 'Sum of 202407',\n",
            "       'Sum of 202406', 'Sum of 202408', 'Sum of 202409', 'Sum of 202410',\n",
            "       'Sum of 202411'],\n",
            "      dtype='object')\n",
            "Index(['Row Labels', '202312', '202313', '202314', '202315', '202317',\n",
            "       '202319', '202320', '202321', '202322', '202318', '202316', '202323',\n",
            "       '202324', '202338', '202339', '202340', '202344', '202346', '202350',\n",
            "       '202348', '202347', '202345', '202343', '202342', '202341', '202325',\n",
            "       '202326', '202327', '202328', '202329', '202330', '202331', '202332',\n",
            "       '202333', '202334', '202335', '202336', '202337', '202349', '202351',\n",
            "       '202352', '202401', '202402', '202403', '202404', '202405', '202407',\n",
            "       '202406', '202408', '202409', '202410', '202411'],\n",
            "      dtype='object')\n",
            "Column 'line' not found in the dataframe. Please check the column names.\n"
          ]
        }
      ]
    },
    {
      "cell_type": "code",
      "source": [
        "print(df.head())\n",
        "print(df.columns)\n",
        "\n"
      ],
      "metadata": {
        "colab": {
          "base_uri": "https://localhost:8080/"
        },
        "id": "3MTpuQxVLudS",
        "outputId": "3838ab67-9928-44d0-a19d-3011e9280009"
      },
      "execution_count": null,
      "outputs": [
        {
          "output_type": "stream",
          "name": "stdout",
          "text": [
            "  Row Labels  Sum of 202312  Sum of 202313  Sum of 202314  Sum of 202315  \\\n",
            "0     Line 1          17765          22020        22780.0        22420.0   \n",
            "1   Line 1-2            858           1078         1386.0         1738.0   \n",
            "2     Line 2          14226          15402        17610.0        22088.0   \n",
            "3     Line 3          20188          14657        20951.0        24177.0   \n",
            "4     Line 4          12186          11103        11915.0        14234.0   \n",
            "\n",
            "   Sum of 202317  Sum of 202319  Sum of 202320  Sum of 202321  Sum of 202322  \\\n",
            "0        11930.0        22350.0        13075.0        21200.0          18100   \n",
            "1         1943.0         1943.0         1804.0         1870.0           4950   \n",
            "2        13651.0        14258.0        19480.0        14594.0          17184   \n",
            "3        17152.0        19243.0        18615.0        20435.0          16735   \n",
            "4        12190.0         8133.0         9608.0        10556.0           8533   \n",
            "\n",
            "   ...  Sum of 202402  Sum of 202403  Sum of 202404  Sum of 202405  \\\n",
            "0  ...        34010.0        35110.0        34589.0        24000.0   \n",
            "1  ...            NaN            NaN            NaN            NaN   \n",
            "2  ...        22415.0        21828.0        25577.0        21377.0   \n",
            "3  ...        19110.0        38234.0        26784.0        26814.0   \n",
            "4  ...        16627.0        45582.0        10088.0         9334.0   \n",
            "\n",
            "   Sum of 202407  Sum of 202406  Sum of 202408  Sum of 202409  Sum of 202410  \\\n",
            "0        33960.0        30900.0            NaN            NaN            NaN   \n",
            "1            NaN            NaN            NaN            NaN            NaN   \n",
            "2        20340.0        21377.0        25609.0        20969.0        20993.0   \n",
            "3         6350.0        26684.0        23234.0        19662.0        15208.0   \n",
            "4            NaN        12644.0         5034.0         4988.0         4986.0   \n",
            "\n",
            "   Sum of 202411  \n",
            "0            NaN  \n",
            "1            NaN  \n",
            "2        14878.0  \n",
            "3        12268.0  \n",
            "4         3950.0  \n",
            "\n",
            "[5 rows x 53 columns]\n",
            "Index(['Row Labels', 'Sum of 202312', 'Sum of 202313', 'Sum of 202314',\n",
            "       'Sum of 202315', 'Sum of 202317', 'Sum of 202319', 'Sum of 202320',\n",
            "       'Sum of 202321', 'Sum of 202322', 'Sum of 202318', 'Sum of 202316',\n",
            "       'Sum of 202323', 'Sum of 202324', 'Sum of 202338', 'Sum of 202339',\n",
            "       'Sum of 202340', 'Sum of 202344', 'Sum of 202346', 'Sum of 202350',\n",
            "       'Sum of 202348', 'Sum of 202347', 'Sum of 202345', 'Sum of 202343',\n",
            "       'Sum of 202342', 'Sum of 202341', 'Sum of 202325', 'Sum of 202326',\n",
            "       'Sum of 202327', 'Sum of 202328', 'Sum of 202329', 'Sum of 202330',\n",
            "       'Sum of 202331', 'Sum of 202332', 'Sum of 202333', 'Sum of 202334',\n",
            "       'Sum of 202335', 'Sum of 202336', 'Sum of 202337', 'Sum of 202349',\n",
            "       'Sum of 202351', 'Sum of 202352', 'Sum of 202401', 'Sum of 202402',\n",
            "       'Sum of 202403', 'Sum of 202404', 'Sum of 202405', 'Sum of 202407',\n",
            "       'Sum of 202406', 'Sum of 202408', 'Sum of 202409', 'Sum of 202410',\n",
            "       'Sum of 202411'],\n",
            "      dtype='object')\n"
          ]
        }
      ]
    },
    {
      "cell_type": "code",
      "source": [
        "# Remove the 'Sum of ' prefix from the column names\n",
        "df.columns = [col.replace('Sum of ', '') for col in df.columns]\n",
        "\n",
        "# Verify the column names after replacement\n",
        "print(df.columns)\n",
        "\n",
        "# Melt the dataframe to long format\n",
        "df_long = df.melt(id_vars=['Row Labels'], var_name='week_year', value_name='value')\n",
        "\n",
        "# Extract year and week from the 'week_year' column\n",
        "df_long['year'] = df_long['week_year'].str[:4].astype(int)\n",
        "df_long['week'] = df_long['week_year'].str[4:].astype(int)\n",
        "\n",
        "# Convert year and week to a datetime\n",
        "df_long['ds'] = pd.to_datetime(df_long['year'].astype(str) + df_long['week'].astype(str) + '0', format='%Y%W%w')\n",
        "\n",
        "# Filter out non-numeric rows (like 'grand total') if necessary\n",
        "df_long = df_long[pd.to_numeric(df_long['value'], errors='coerce').notnull()]\n",
        "\n",
        "# Rename columns for Prophet\n",
        "df_prophet = df_long[['ds', 'value']].rename(columns={'value': 'y'})\n",
        "\n",
        "# Train the Prophet model\n",
        "m = Prophet()\n",
        "m.fit(df_prophet)\n",
        "\n",
        "# Make future predictions\n",
        "future = m.make_future_dataframe(periods=52, freq='W')\n",
        "forecast = m.predict(future)\n",
        "\n",
        "# Visualize the forecast\n",
        "fig = m.plot(forecast)\n",
        "fig.show()\n",
        "\n",
        "# Optionally save the forecast\n",
        "forecast.to_csv('forecast.csv', index=False)\n"
      ],
      "metadata": {
        "colab": {
          "base_uri": "https://localhost:8080/",
          "height": 991
        },
        "id": "DLt_opcDL1G0",
        "outputId": "90a88150-1ed7-4cb1-fe4d-cdc3545fe87a"
      },
      "execution_count": null,
      "outputs": [
        {
          "output_type": "stream",
          "name": "stdout",
          "text": [
            "Index(['Row Labels', '202312', '202313', '202314', '202315', '202317',\n",
            "       '202319', '202320', '202321', '202322', '202318', '202316', '202323',\n",
            "       '202324', '202338', '202339', '202340', '202344', '202346', '202350',\n",
            "       '202348', '202347', '202345', '202343', '202342', '202341', '202325',\n",
            "       '202326', '202327', '202328', '202329', '202330', '202331', '202332',\n",
            "       '202333', '202334', '202335', '202336', '202337', '202349', '202351',\n",
            "       '202352', '202401', '202402', '202403', '202404', '202405', '202407',\n",
            "       '202406', '202408', '202409', '202410', '202411'],\n",
            "      dtype='object')\n"
          ]
        },
        {
          "output_type": "stream",
          "name": "stderr",
          "text": [
            "INFO:prophet:Disabling yearly seasonality. Run prophet with yearly_seasonality=True to override this.\n",
            "INFO:prophet:Disabling weekly seasonality. Run prophet with weekly_seasonality=True to override this.\n",
            "INFO:prophet:Disabling daily seasonality. Run prophet with daily_seasonality=True to override this.\n",
            "DEBUG:cmdstanpy:input tempfile: /tmp/tmpbg4ukprb/l_7bo9yf.json\n",
            "DEBUG:cmdstanpy:input tempfile: /tmp/tmpbg4ukprb/74888_kt.json\n",
            "DEBUG:cmdstanpy:idx 0\n",
            "DEBUG:cmdstanpy:running CmdStan, num_threads: None\n",
            "DEBUG:cmdstanpy:CmdStan args: ['/usr/local/lib/python3.10/dist-packages/prophet/stan_model/prophet_model.bin', 'random', 'seed=53964', 'data', 'file=/tmp/tmpbg4ukprb/l_7bo9yf.json', 'init=/tmp/tmpbg4ukprb/74888_kt.json', 'output', 'file=/tmp/tmpbg4ukprb/prophet_modelsr737wf2/prophet_model-20240517153305.csv', 'method=optimize', 'algorithm=lbfgs', 'iter=10000']\n",
            "15:33:05 - cmdstanpy - INFO - Chain [1] start processing\n",
            "INFO:cmdstanpy:Chain [1] start processing\n",
            "15:33:05 - cmdstanpy - INFO - Chain [1] done processing\n",
            "INFO:cmdstanpy:Chain [1] done processing\n"
          ]
        },
        {
          "output_type": "display_data",
          "data": {
            "text/plain": [
              "<Figure size 1000x600 with 1 Axes>"
            ],
            "image/png": "[encoded data removed]"
          },
          "metadata": {}
        }
      ]
    }
  ]
}